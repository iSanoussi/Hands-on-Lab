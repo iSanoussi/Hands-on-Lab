{
  "nbformat": 4,
  "nbformat_minor": 0,
  "metadata": {
    "colab": {
      "provenance": [],
      "authorship_tag": "ABX9TyPzmNlOeV12xEtSRz8GiBmx",
      "include_colab_link": true
    },
    "kernelspec": {
      "name": "python3",
      "display_name": "Python 3"
    },
    "language_info": {
      "name": "python"
    }
  },
  "cells": [
    {
      "cell_type": "markdown",
      "metadata": {
        "id": "view-in-github",
        "colab_type": "text"
      },
      "source": [
        "<a href=\"https://colab.research.google.com/github/iSanoussi/Hands-on-Lab/blob/main/Web_Scraping_Lab2.ipynb\" target=\"_parent\"><img src=\"https://colab.research.google.com/assets/colab-badge.svg\" alt=\"Open In Colab\"/></a>"
      ]
    },
    {
      "cell_type": "markdown",
      "source": [
        "# **2 - Hands-on Lab : Web Scraping**"
      ],
      "metadata": {
        "id": "rQ2v5sJlGhP7"
      }
    },
    {
      "cell_type": "markdown",
      "source": [
        "You will extract the data from the below web site:"
      ],
      "metadata": {
        "id": "mAd2NNq1GuY7"
      }
    },
    {
      "cell_type": "code",
      "execution_count": 1,
      "metadata": {
        "id": "Z4Alp5HDGdvC"
      },
      "outputs": [],
      "source": [
        "#this url contains the data you need to scrape\n",
        "url = \"https://cf-courses-data.s3.us.cloud-object-storage.appdomain.cloud/IBM-DA0321EN-SkillsNetwork/labs/datasets/Programming_Languages.html\""
      ]
    },
    {
      "cell_type": "markdown",
      "source": [
        "The data you need to scrape is the name of the programming language and average annual salary.\n",
        "\n",
        "It is a good idea to open the url in your web broswer and study the contents of the web page before you start to scrape.\n",
        "\n",
        "Import the required libraries"
      ],
      "metadata": {
        "id": "XhSDYwhqG4-Z"
      }
    },
    {
      "cell_type": "code",
      "source": [
        "from bs4 import BeautifulSoup\n",
        "import requests\n",
        "import pandas as pd\n",
        "import csv"
      ],
      "metadata": {
        "id": "BRpflul1GmER"
      },
      "execution_count": 2,
      "outputs": []
    },
    {
      "cell_type": "markdown",
      "source": [
        "Download the webpage at the url"
      ],
      "metadata": {
        "id": "0_CPK58iHQ8Y"
      }
    },
    {
      "cell_type": "code",
      "source": [
        "data = requests.get(url).text"
      ],
      "metadata": {
        "id": "r-zlUP33GmB4"
      },
      "execution_count": 3,
      "outputs": []
    },
    {
      "cell_type": "markdown",
      "source": [
        "Create a soup object"
      ],
      "metadata": {
        "id": "13at-olDHZXj"
      }
    },
    {
      "cell_type": "code",
      "source": [
        "soup = BeautifulSoup(data,\"html5lib\")"
      ],
      "metadata": {
        "id": "Z9Ev6WvlGl_N"
      },
      "execution_count": 4,
      "outputs": []
    },
    {
      "cell_type": "markdown",
      "source": [
        "Scrape the Language name and annual average salary."
      ],
      "metadata": {
        "id": "2q4wnZ8pHg-R"
      }
    },
    {
      "cell_type": "code",
      "source": [
        "table = soup.find('table')\n",
        "listpl =[]\n",
        "for row in table.find_all('tr'):\n",
        "    cols = row.find_all('td')\n",
        "    Language_name = cols[1].getText()\n",
        "    annual_average_salary = str(cols[3].getText())\n",
        "    listpl.append([Language_name,annual_average_salary])\n",
        "    #print(\"{}--->{}\".format(Language_name,annual_average_salary))\n",
        "print(listpl)"
      ],
      "metadata": {
        "colab": {
          "base_uri": "https://localhost:8080/"
        },
        "id": "Y6J8ivW4Gl8i",
        "outputId": "871d4c37-3187-4ea6-fc38-2035fb636bb7"
      },
      "execution_count": 5,
      "outputs": [
        {
          "output_type": "stream",
          "name": "stdout",
          "text": [
            "[['Language', 'Average Annual Salary'], ['Python', '$114,383'], ['Java', '$101,013'], ['R', '$92,037'], ['Javascript', '$110,981'], ['Swift', '$130,801'], ['C++', '$113,865'], ['C#', '$88,726'], ['PHP', '$84,727'], ['SQL', '$84,793'], ['Go', '$94,082']]\n"
          ]
        }
      ]
    },
    {
      "cell_type": "markdown",
      "source": [
        "Save the scrapped data into a file named popular-languages.csv"
      ],
      "metadata": {
        "id": "GFclKwOkHr5y"
      }
    },
    {
      "cell_type": "code",
      "source": [
        "popular_languages = pd.DataFrame(listpl)\n",
        "popular_languages.to_csv(\"popular-languages.csv\")"
      ],
      "metadata": {
        "id": "gB8lJRE6Gl0-"
      },
      "execution_count": 6,
      "outputs": []
    },
    {
      "cell_type": "code",
      "source": [],
      "metadata": {
        "id": "M_AC-7coH13u"
      },
      "execution_count": null,
      "outputs": []
    },
    {
      "cell_type": "markdown",
      "source": [
        "## Authors\n",
        "\n",
        "Abdoul W. SANOUSSI"
      ],
      "metadata": {
        "id": "h3rkmIW5H05A"
      }
    }
  ]
}